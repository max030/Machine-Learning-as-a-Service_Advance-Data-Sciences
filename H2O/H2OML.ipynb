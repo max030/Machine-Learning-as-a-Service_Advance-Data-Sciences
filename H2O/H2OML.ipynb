{
 "cells": [
  {
   "cell_type": "code",
   "execution_count": 62,
   "metadata": {
    "collapsed": true
   },
   "outputs": [],
   "source": [
    "import h2o\n",
    "from h2o.estimators.gbm import H2OGradientBoostingEstimator"
   ]
  },
  {
   "cell_type": "code",
   "execution_count": 63,
   "metadata": {
    "collapsed": false
   },
   "outputs": [
    {
     "name": "stdout",
     "output_type": "stream",
     "text": [
      "Checking whether there is an H2O instance running at http://localhost:54321. connected.\n"
     ]
    },
    {
     "data": {
      "text/html": [
       "<div style=\"overflow:auto\"><table style=\"width:50%\"><tr><td>H2O cluster uptime:</td>\n",
       "<td>2 days 1 hour 36 mins</td></tr>\n",
       "<tr><td>H2O cluster version:</td>\n",
       "<td>3.10.5.4</td></tr>\n",
       "<tr><td>H2O cluster version age:</td>\n",
       "<td>13 days </td></tr>\n",
       "<tr><td>H2O cluster name:</td>\n",
       "<td>sneha</td></tr>\n",
       "<tr><td>H2O cluster total nodes:</td>\n",
       "<td>1</td></tr>\n",
       "<tr><td>H2O cluster free memory:</td>\n",
       "<td>1.586 Gb</td></tr>\n",
       "<tr><td>H2O cluster total cores:</td>\n",
       "<td>4</td></tr>\n",
       "<tr><td>H2O cluster allowed cores:</td>\n",
       "<td>4</td></tr>\n",
       "<tr><td>H2O cluster status:</td>\n",
       "<td>locked, healthy</td></tr>\n",
       "<tr><td>H2O connection url:</td>\n",
       "<td>http://localhost:54321</td></tr>\n",
       "<tr><td>H2O connection proxy:</td>\n",
       "<td>None</td></tr>\n",
       "<tr><td>H2O internal security:</td>\n",
       "<td>False</td></tr>\n",
       "<tr><td>Python version:</td>\n",
       "<td>3.6.0 final</td></tr></table></div>"
      ],
      "text/plain": [
       "--------------------------  ----------------------\n",
       "H2O cluster uptime:         2 days 1 hour 36 mins\n",
       "H2O cluster version:        3.10.5.4\n",
       "H2O cluster version age:    13 days\n",
       "H2O cluster name:           sneha\n",
       "H2O cluster total nodes:    1\n",
       "H2O cluster free memory:    1.586 Gb\n",
       "H2O cluster total cores:    4\n",
       "H2O cluster allowed cores:  4\n",
       "H2O cluster status:         locked, healthy\n",
       "H2O connection url:         http://localhost:54321\n",
       "H2O connection proxy:\n",
       "H2O internal security:      False\n",
       "Python version:             3.6.0 final\n",
       "--------------------------  ----------------------"
      ]
     },
     "metadata": {},
     "output_type": "display_data"
    }
   ],
   "source": [
    "# Connect to a pre-existing cluster\n",
    "h2o.init()"
   ]
  },
  {
   "cell_type": "code",
   "execution_count": 64,
   "metadata": {
    "collapsed": false
   },
   "outputs": [
    {
     "name": "stdout",
     "output_type": "stream",
     "text": [
      "Parse progress: |█████████████████████████████████████████████████████████| 100%\n"
     ]
    }
   ],
   "source": [
    "from h2o.utils.shared_utils import _locate # private function. used to find files within h2o git project directory.\n",
    "\n",
    "df = h2o.import_file(path=_locate(\"prostate.csv\"))"
   ]
  },
  {
   "cell_type": "code",
   "execution_count": 65,
   "metadata": {
    "collapsed": false
   },
   "outputs": [
    {
     "name": "stdout",
     "output_type": "stream",
     "text": [
      "Rows:380\n",
      "Cols:9\n",
      "\n",
      "\n"
     ]
    },
    {
     "data": {
      "text/html": [
       "<table>\n",
       "<thead>\n",
       "<tr><th>       </th><th>ID                </th><th>CAPSULE           </th><th>AGE              </th><th>RACE              </th><th>DPROS             </th><th>DCAPS             </th><th>PSA               </th><th>VOL               </th><th>GLEASON           </th></tr>\n",
       "</thead>\n",
       "<tbody>\n",
       "<tr><td>type   </td><td>int               </td><td>int               </td><td>int              </td><td>int               </td><td>int               </td><td>int               </td><td>real              </td><td>real              </td><td>int               </td></tr>\n",
       "<tr><td>mins   </td><td>1.0               </td><td>0.0               </td><td>43.0             </td><td>0.0               </td><td>1.0               </td><td>1.0               </td><td>0.3               </td><td>0.0               </td><td>0.0               </td></tr>\n",
       "<tr><td>mean   </td><td>190.5             </td><td>0.4026315789473684</td><td>66.03947368421049</td><td>1.0868421052631572</td><td>2.2710526315789488</td><td>1.1078947368421048</td><td>15.408631578947375</td><td>15.812921052631573</td><td>6.3842105263157904</td></tr>\n",
       "<tr><td>maxs   </td><td>380.0             </td><td>1.0               </td><td>79.0             </td><td>2.0               </td><td>4.0               </td><td>2.0               </td><td>139.70000000000002</td><td>97.60000000000001 </td><td>9.0               </td></tr>\n",
       "<tr><td>sigma  </td><td>109.84079387914127</td><td>0.4910743389630552</td><td>6.527071269173311</td><td>0.3087732580252793</td><td>1.0001076181502861</td><td>0.3106564493514939</td><td>19.99757266856046 </td><td>18.347619967271175</td><td>1.0919533744261092</td></tr>\n",
       "<tr><td>zeros  </td><td>0                 </td><td>227               </td><td>0                </td><td>3                 </td><td>0                 </td><td>0                 </td><td>0                 </td><td>167               </td><td>2                 </td></tr>\n",
       "<tr><td>missing</td><td>0                 </td><td>0                 </td><td>0                </td><td>0                 </td><td>0                 </td><td>0                 </td><td>0                 </td><td>0                 </td><td>0                 </td></tr>\n",
       "<tr><td>0      </td><td>1.0               </td><td>0.0               </td><td>65.0             </td><td>1.0               </td><td>2.0               </td><td>1.0               </td><td>1.4000000000000001</td><td>0.0               </td><td>6.0               </td></tr>\n",
       "<tr><td>1      </td><td>2.0               </td><td>0.0               </td><td>72.0             </td><td>1.0               </td><td>3.0               </td><td>2.0               </td><td>6.7               </td><td>0.0               </td><td>7.0               </td></tr>\n",
       "<tr><td>2      </td><td>3.0               </td><td>0.0               </td><td>70.0             </td><td>1.0               </td><td>1.0               </td><td>2.0               </td><td>4.9               </td><td>0.0               </td><td>6.0               </td></tr>\n",
       "<tr><td>3      </td><td>4.0               </td><td>0.0               </td><td>76.0             </td><td>2.0               </td><td>2.0               </td><td>1.0               </td><td>51.2              </td><td>20.0              </td><td>7.0               </td></tr>\n",
       "<tr><td>4      </td><td>5.0               </td><td>0.0               </td><td>69.0             </td><td>1.0               </td><td>1.0               </td><td>1.0               </td><td>12.3              </td><td>55.9              </td><td>6.0               </td></tr>\n",
       "<tr><td>5      </td><td>6.0               </td><td>1.0               </td><td>71.0             </td><td>1.0               </td><td>3.0               </td><td>2.0               </td><td>3.3000000000000003</td><td>0.0               </td><td>8.0               </td></tr>\n",
       "<tr><td>6      </td><td>7.0               </td><td>0.0               </td><td>68.0             </td><td>2.0               </td><td>4.0               </td><td>2.0               </td><td>31.900000000000002</td><td>0.0               </td><td>7.0               </td></tr>\n",
       "<tr><td>7      </td><td>8.0               </td><td>0.0               </td><td>61.0             </td><td>2.0               </td><td>4.0               </td><td>2.0               </td><td>66.7              </td><td>27.2              </td><td>7.0               </td></tr>\n",
       "<tr><td>8      </td><td>9.0               </td><td>0.0               </td><td>69.0             </td><td>1.0               </td><td>1.0               </td><td>1.0               </td><td>3.9               </td><td>24.0              </td><td>7.0               </td></tr>\n",
       "<tr><td>9      </td><td>10.0              </td><td>0.0               </td><td>68.0             </td><td>2.0               </td><td>1.0               </td><td>2.0               </td><td>13.0              </td><td>0.0               </td><td>6.0               </td></tr>\n",
       "</tbody>\n",
       "</table>"
      ]
     },
     "metadata": {},
     "output_type": "display_data"
    }
   ],
   "source": [
    "df.describe()"
   ]
  },
  {
   "cell_type": "code",
   "execution_count": 66,
   "metadata": {
    "collapsed": true
   },
   "outputs": [],
   "source": [
    "\n",
    "# Remove ID from training frame\n",
    "train = df.drop(\"ID\")"
   ]
  },
  {
   "cell_type": "code",
   "execution_count": 67,
   "metadata": {
    "collapsed": true
   },
   "outputs": [],
   "source": [
    "# For VOL & GLEASON, a zero really means \"missing\"\n",
    "vol = train['VOL']\n",
    "vol[vol == 0] = None\n",
    "train['VOL']=vol\n",
    "gle = train['GLEASON']\n",
    "gle[gle == 0] = None\n",
    "train['GLEASON']=gle"
   ]
  },
  {
   "cell_type": "code",
   "execution_count": 68,
   "metadata": {
    "collapsed": true
   },
   "outputs": [],
   "source": [
    "# Convert CAPSULE to a logical factor\n",
    "train['CAPSULE'] = train['CAPSULE'].asfactor()"
   ]
  },
  {
   "cell_type": "code",
   "execution_count": 69,
   "metadata": {
    "collapsed": false
   },
   "outputs": [
    {
     "name": "stdout",
     "output_type": "stream",
     "text": [
      "Rows:380\n",
      "Cols:8\n",
      "\n",
      "\n"
     ]
    },
    {
     "data": {
      "text/html": [
       "<table>\n",
       "<thead>\n",
       "<tr><th>       </th><th>CAPSULE  </th><th>AGE              </th><th>RACE              </th><th>DPROS             </th><th>DCAPS             </th><th>PSA               </th><th>VOL               </th><th>GLEASON           </th></tr>\n",
       "</thead>\n",
       "<tbody>\n",
       "<tr><td>type   </td><td>enum     </td><td>int              </td><td>int               </td><td>int               </td><td>int               </td><td>real              </td><td>real              </td><td>int               </td></tr>\n",
       "<tr><td>mins   </td><td>         </td><td>43.0             </td><td>0.0               </td><td>1.0               </td><td>1.0               </td><td>0.3               </td><td>1.92              </td><td>4.0               </td></tr>\n",
       "<tr><td>mean   </td><td>         </td><td>66.03947368421049</td><td>1.0868421052631572</td><td>2.2710526315789488</td><td>1.1078947368421048</td><td>15.408631578947375</td><td>28.21084507042253 </td><td>6.41798941798942  </td></tr>\n",
       "<tr><td>maxs   </td><td>         </td><td>79.0             </td><td>2.0               </td><td>4.0               </td><td>2.0               </td><td>139.70000000000002</td><td>97.60000000000001 </td><td>9.0               </td></tr>\n",
       "<tr><td>sigma  </td><td>         </td><td>6.527071269173311</td><td>0.3087732580252793</td><td>1.0001076181502861</td><td>0.3106564493514939</td><td>19.99757266856046 </td><td>15.824317840954281</td><td>0.9906160127760705</td></tr>\n",
       "<tr><td>zeros  </td><td>         </td><td>0                </td><td>3                 </td><td>0                 </td><td>0                 </td><td>0                 </td><td>0                 </td><td>0                 </td></tr>\n",
       "<tr><td>missing</td><td>0        </td><td>0                </td><td>0                 </td><td>0                 </td><td>0                 </td><td>0                 </td><td>167               </td><td>2                 </td></tr>\n",
       "<tr><td>0      </td><td>0        </td><td>65.0             </td><td>1.0               </td><td>2.0               </td><td>1.0               </td><td>1.4000000000000001</td><td>nan               </td><td>6.0               </td></tr>\n",
       "<tr><td>1      </td><td>0        </td><td>72.0             </td><td>1.0               </td><td>3.0               </td><td>2.0               </td><td>6.7               </td><td>nan               </td><td>7.0               </td></tr>\n",
       "<tr><td>2      </td><td>0        </td><td>70.0             </td><td>1.0               </td><td>1.0               </td><td>2.0               </td><td>4.9               </td><td>nan               </td><td>6.0               </td></tr>\n",
       "<tr><td>3      </td><td>0        </td><td>76.0             </td><td>2.0               </td><td>2.0               </td><td>1.0               </td><td>51.2              </td><td>20.0              </td><td>7.0               </td></tr>\n",
       "<tr><td>4      </td><td>0        </td><td>69.0             </td><td>1.0               </td><td>1.0               </td><td>1.0               </td><td>12.3              </td><td>55.9              </td><td>6.0               </td></tr>\n",
       "<tr><td>5      </td><td>1        </td><td>71.0             </td><td>1.0               </td><td>3.0               </td><td>2.0               </td><td>3.3000000000000003</td><td>nan               </td><td>8.0               </td></tr>\n",
       "<tr><td>6      </td><td>0        </td><td>68.0             </td><td>2.0               </td><td>4.0               </td><td>2.0               </td><td>31.900000000000002</td><td>nan               </td><td>7.0               </td></tr>\n",
       "<tr><td>7      </td><td>0        </td><td>61.0             </td><td>2.0               </td><td>4.0               </td><td>2.0               </td><td>66.7              </td><td>27.2              </td><td>7.0               </td></tr>\n",
       "<tr><td>8      </td><td>0        </td><td>69.0             </td><td>1.0               </td><td>1.0               </td><td>1.0               </td><td>3.9               </td><td>24.0              </td><td>7.0               </td></tr>\n",
       "<tr><td>9      </td><td>0        </td><td>68.0             </td><td>2.0               </td><td>1.0               </td><td>2.0               </td><td>13.0              </td><td>nan               </td><td>6.0               </td></tr>\n",
       "</tbody>\n",
       "</table>"
      ]
     },
     "metadata": {},
     "output_type": "display_data"
    }
   ],
   "source": [
    "\n",
    "# See that the data is ready\n",
    "train.describe()"
   ]
  },
  {
   "cell_type": "code",
   "execution_count": 70,
   "metadata": {
    "collapsed": false
   },
   "outputs": [
    {
     "name": "stdout",
     "output_type": "stream",
     "text": [
      "gbm Model Build progress: |███████████████████████████████████████████████| 100%\n"
     ]
    }
   ],
   "source": [
    "# Run GBM\n",
    "my_gbm = H2OGradientBoostingEstimator(distribution = \"bernoulli\", ntrees=50, learn_rate=0.1)\n",
    "\n",
    "my_gbm.train(x=list(range(1,train.ncol)), y=\"CAPSULE\", training_frame=train, validation_frame=train)"
   ]
  },
  {
   "cell_type": "code",
   "execution_count": 71,
   "metadata": {
    "collapsed": false
   },
   "outputs": [
    {
     "name": "stdout",
     "output_type": "stream",
     "text": [
      "\n",
      "ModelMetricsBinomial: gbm\n",
      "** Reported on test data. **\n",
      "\n",
      "MSE: 0.07386057681148359\n",
      "RMSE: 0.2717730244367229\n",
      "LogLoss: 0.2678615063151671\n",
      "Mean Per-Class Error: 0.07225533385160232\n",
      "AUC: 0.979643546111543\n",
      "Gini: 0.9592870922230861\n",
      "Confusion Matrix (Act/Pred) for max f1 @ threshold = 0.4552296658249728: \n"
     ]
    },
    {
     "data": {
      "text/html": [
       "<div style=\"overflow:auto\"><table style=\"width:50%\"><tr><td><b></b></td>\n",
       "<td><b>0</b></td>\n",
       "<td><b>1</b></td>\n",
       "<td><b>Error</b></td>\n",
       "<td><b>Rate</b></td></tr>\n",
       "<tr><td>0</td>\n",
       "<td>212.0</td>\n",
       "<td>15.0</td>\n",
       "<td>0.0661</td>\n",
       "<td> (15.0/227.0)</td></tr>\n",
       "<tr><td>1</td>\n",
       "<td>12.0</td>\n",
       "<td>141.0</td>\n",
       "<td>0.0784</td>\n",
       "<td> (12.0/153.0)</td></tr>\n",
       "<tr><td>Total</td>\n",
       "<td>224.0</td>\n",
       "<td>156.0</td>\n",
       "<td>0.0711</td>\n",
       "<td> (27.0/380.0)</td></tr></table></div>"
      ],
      "text/plain": [
       "       0    1    Error    Rate\n",
       "-----  ---  ---  -------  ------------\n",
       "0      212  15   0.0661   (15.0/227.0)\n",
       "1      12   141  0.0784   (12.0/153.0)\n",
       "Total  224  156  0.0711   (27.0/380.0)"
      ]
     },
     "metadata": {},
     "output_type": "display_data"
    },
    {
     "name": "stdout",
     "output_type": "stream",
     "text": [
      "Maximum Metrics: Maximum metrics at their respective thresholds\n",
      "\n"
     ]
    },
    {
     "data": {
      "text/html": [
       "<div style=\"overflow:auto\"><table style=\"width:50%\"><tr><td><b>metric</b></td>\n",
       "<td><b>threshold</b></td>\n",
       "<td><b>value</b></td>\n",
       "<td><b>idx</b></td></tr>\n",
       "<tr><td>max f1</td>\n",
       "<td>0.4552297</td>\n",
       "<td>0.9126214</td>\n",
       "<td>155.0</td></tr>\n",
       "<tr><td>max f2</td>\n",
       "<td>0.3035822</td>\n",
       "<td>0.9344059</td>\n",
       "<td>195.0</td></tr>\n",
       "<tr><td>max f0point5</td>\n",
       "<td>0.5563743</td>\n",
       "<td>0.9417040</td>\n",
       "<td>128.0</td></tr>\n",
       "<tr><td>max accuracy</td>\n",
       "<td>0.4823319</td>\n",
       "<td>0.9289474</td>\n",
       "<td>147.0</td></tr>\n",
       "<tr><td>max precision</td>\n",
       "<td>0.9799473</td>\n",
       "<td>1.0</td>\n",
       "<td>0.0</td></tr>\n",
       "<tr><td>max recall</td>\n",
       "<td>0.1901482</td>\n",
       "<td>1.0</td>\n",
       "<td>231.0</td></tr>\n",
       "<tr><td>max specificity</td>\n",
       "<td>0.9799473</td>\n",
       "<td>1.0</td>\n",
       "<td>0.0</td></tr>\n",
       "<tr><td>max absolute_mcc</td>\n",
       "<td>0.4552297</td>\n",
       "<td>0.8528780</td>\n",
       "<td>155.0</td></tr>\n",
       "<tr><td>max min_per_class_accuracy</td>\n",
       "<td>0.4552297</td>\n",
       "<td>0.9215686</td>\n",
       "<td>155.0</td></tr>\n",
       "<tr><td>max mean_per_class_accuracy</td>\n",
       "<td>0.4552297</td>\n",
       "<td>0.9277447</td>\n",
       "<td>155.0</td></tr></table></div>"
      ],
      "text/plain": [
       "metric                       threshold    value     idx\n",
       "---------------------------  -----------  --------  -----\n",
       "max f1                       0.45523      0.912621  155\n",
       "max f2                       0.303582     0.934406  195\n",
       "max f0point5                 0.556374     0.941704  128\n",
       "max accuracy                 0.482332     0.928947  147\n",
       "max precision                0.979947     1         0\n",
       "max recall                   0.190148     1         231\n",
       "max specificity              0.979947     1         0\n",
       "max absolute_mcc             0.45523      0.852878  155\n",
       "max min_per_class_accuracy   0.45523      0.921569  155\n",
       "max mean_per_class_accuracy  0.45523      0.927745  155"
      ]
     },
     "metadata": {},
     "output_type": "display_data"
    },
    {
     "name": "stdout",
     "output_type": "stream",
     "text": [
      "Gains/Lift Table: Avg response rate: 40.26 %\n",
      "\n"
     ]
    },
    {
     "data": {
      "text/html": [
       "<div style=\"overflow:auto\"><table style=\"width:50%\"><tr><td><b></b></td>\n",
       "<td><b>group</b></td>\n",
       "<td><b>cumulative_data_fraction</b></td>\n",
       "<td><b>lower_threshold</b></td>\n",
       "<td><b>lift</b></td>\n",
       "<td><b>cumulative_lift</b></td>\n",
       "<td><b>response_rate</b></td>\n",
       "<td><b>cumulative_response_rate</b></td>\n",
       "<td><b>capture_rate</b></td>\n",
       "<td><b>cumulative_capture_rate</b></td>\n",
       "<td><b>gain</b></td>\n",
       "<td><b>cumulative_gain</b></td></tr>\n",
       "<tr><td></td>\n",
       "<td>1</td>\n",
       "<td>0.0105263</td>\n",
       "<td>0.9698129</td>\n",
       "<td>2.4836601</td>\n",
       "<td>2.4836601</td>\n",
       "<td>1.0</td>\n",
       "<td>1.0</td>\n",
       "<td>0.0261438</td>\n",
       "<td>0.0261438</td>\n",
       "<td>148.3660131</td>\n",
       "<td>148.3660131</td></tr>\n",
       "<tr><td></td>\n",
       "<td>2</td>\n",
       "<td>0.0210526</td>\n",
       "<td>0.9640032</td>\n",
       "<td>2.4836601</td>\n",
       "<td>2.4836601</td>\n",
       "<td>1.0</td>\n",
       "<td>1.0</td>\n",
       "<td>0.0261438</td>\n",
       "<td>0.0522876</td>\n",
       "<td>148.3660131</td>\n",
       "<td>148.3660131</td></tr>\n",
       "<tr><td></td>\n",
       "<td>3</td>\n",
       "<td>0.0315789</td>\n",
       "<td>0.9575014</td>\n",
       "<td>2.4836601</td>\n",
       "<td>2.4836601</td>\n",
       "<td>1.0</td>\n",
       "<td>1.0</td>\n",
       "<td>0.0261438</td>\n",
       "<td>0.0784314</td>\n",
       "<td>148.3660131</td>\n",
       "<td>148.3660131</td></tr>\n",
       "<tr><td></td>\n",
       "<td>4</td>\n",
       "<td>0.0421053</td>\n",
       "<td>0.9503944</td>\n",
       "<td>2.4836601</td>\n",
       "<td>2.4836601</td>\n",
       "<td>1.0</td>\n",
       "<td>1.0</td>\n",
       "<td>0.0261438</td>\n",
       "<td>0.1045752</td>\n",
       "<td>148.3660131</td>\n",
       "<td>148.3660131</td></tr>\n",
       "<tr><td></td>\n",
       "<td>5</td>\n",
       "<td>0.05</td>\n",
       "<td>0.9440268</td>\n",
       "<td>2.4836601</td>\n",
       "<td>2.4836601</td>\n",
       "<td>1.0</td>\n",
       "<td>1.0</td>\n",
       "<td>0.0196078</td>\n",
       "<td>0.1241830</td>\n",
       "<td>148.3660131</td>\n",
       "<td>148.3660131</td></tr>\n",
       "<tr><td></td>\n",
       "<td>6</td>\n",
       "<td>0.1</td>\n",
       "<td>0.8904445</td>\n",
       "<td>2.4836601</td>\n",
       "<td>2.4836601</td>\n",
       "<td>1.0</td>\n",
       "<td>1.0</td>\n",
       "<td>0.1241830</td>\n",
       "<td>0.2483660</td>\n",
       "<td>148.3660131</td>\n",
       "<td>148.3660131</td></tr>\n",
       "<tr><td></td>\n",
       "<td>7</td>\n",
       "<td>0.15</td>\n",
       "<td>0.8321802</td>\n",
       "<td>2.4836601</td>\n",
       "<td>2.4836601</td>\n",
       "<td>1.0</td>\n",
       "<td>1.0</td>\n",
       "<td>0.1241830</td>\n",
       "<td>0.3725490</td>\n",
       "<td>148.3660131</td>\n",
       "<td>148.3660131</td></tr>\n",
       "<tr><td></td>\n",
       "<td>8</td>\n",
       "<td>0.2</td>\n",
       "<td>0.7822521</td>\n",
       "<td>2.4836601</td>\n",
       "<td>2.4836601</td>\n",
       "<td>1.0</td>\n",
       "<td>1.0</td>\n",
       "<td>0.1241830</td>\n",
       "<td>0.4967320</td>\n",
       "<td>148.3660131</td>\n",
       "<td>148.3660131</td></tr>\n",
       "<tr><td></td>\n",
       "<td>9</td>\n",
       "<td>0.3</td>\n",
       "<td>0.6275345</td>\n",
       "<td>2.2875817</td>\n",
       "<td>2.4183007</td>\n",
       "<td>0.9210526</td>\n",
       "<td>0.9736842</td>\n",
       "<td>0.2287582</td>\n",
       "<td>0.7254902</td>\n",
       "<td>128.7581699</td>\n",
       "<td>141.8300654</td></tr>\n",
       "<tr><td></td>\n",
       "<td>10</td>\n",
       "<td>0.4</td>\n",
       "<td>0.4626531</td>\n",
       "<td>1.7647059</td>\n",
       "<td>2.2549020</td>\n",
       "<td>0.7105263</td>\n",
       "<td>0.9078947</td>\n",
       "<td>0.1764706</td>\n",
       "<td>0.9019608</td>\n",
       "<td>76.4705882</td>\n",
       "<td>125.4901961</td></tr>\n",
       "<tr><td></td>\n",
       "<td>11</td>\n",
       "<td>0.5</td>\n",
       "<td>0.3227284</td>\n",
       "<td>0.6535948</td>\n",
       "<td>1.9346405</td>\n",
       "<td>0.2631579</td>\n",
       "<td>0.7789474</td>\n",
       "<td>0.0653595</td>\n",
       "<td>0.9673203</td>\n",
       "<td>-34.6405229</td>\n",
       "<td>93.4640523</td></tr>\n",
       "<tr><td></td>\n",
       "<td>12</td>\n",
       "<td>0.6</td>\n",
       "<td>0.1973560</td>\n",
       "<td>0.2614379</td>\n",
       "<td>1.6557734</td>\n",
       "<td>0.1052632</td>\n",
       "<td>0.6666667</td>\n",
       "<td>0.0261438</td>\n",
       "<td>0.9934641</td>\n",
       "<td>-73.8562092</td>\n",
       "<td>65.5773420</td></tr>\n",
       "<tr><td></td>\n",
       "<td>13</td>\n",
       "<td>0.7</td>\n",
       "<td>0.1219035</td>\n",
       "<td>0.0653595</td>\n",
       "<td>1.4285714</td>\n",
       "<td>0.0263158</td>\n",
       "<td>0.5751880</td>\n",
       "<td>0.0065359</td>\n",
       "<td>1.0</td>\n",
       "<td>-93.4640523</td>\n",
       "<td>42.8571429</td></tr>\n",
       "<tr><td></td>\n",
       "<td>14</td>\n",
       "<td>0.8</td>\n",
       "<td>0.0781791</td>\n",
       "<td>0.0</td>\n",
       "<td>1.25</td>\n",
       "<td>0.0</td>\n",
       "<td>0.5032895</td>\n",
       "<td>0.0</td>\n",
       "<td>1.0</td>\n",
       "<td>-100.0</td>\n",
       "<td>25.0</td></tr>\n",
       "<tr><td></td>\n",
       "<td>15</td>\n",
       "<td>0.9</td>\n",
       "<td>0.0473162</td>\n",
       "<td>0.0</td>\n",
       "<td>1.1111111</td>\n",
       "<td>0.0</td>\n",
       "<td>0.4473684</td>\n",
       "<td>0.0</td>\n",
       "<td>1.0</td>\n",
       "<td>-100.0</td>\n",
       "<td>11.1111111</td></tr>\n",
       "<tr><td></td>\n",
       "<td>16</td>\n",
       "<td>1.0</td>\n",
       "<td>0.0142542</td>\n",
       "<td>0.0</td>\n",
       "<td>1.0</td>\n",
       "<td>0.0</td>\n",
       "<td>0.4026316</td>\n",
       "<td>0.0</td>\n",
       "<td>1.0</td>\n",
       "<td>-100.0</td>\n",
       "<td>0.0</td></tr></table></div>"
      ],
      "text/plain": [
       "    group    cumulative_data_fraction    lower_threshold    lift       cumulative_lift    response_rate    cumulative_response_rate    capture_rate    cumulative_capture_rate    gain      cumulative_gain\n",
       "--  -------  --------------------------  -----------------  ---------  -----------------  ---------------  --------------------------  --------------  -------------------------  --------  -----------------\n",
       "    1        0.0105263                   0.969813           2.48366    2.48366            1                1                           0.0261438       0.0261438                  148.366   148.366\n",
       "    2        0.0210526                   0.964003           2.48366    2.48366            1                1                           0.0261438       0.0522876                  148.366   148.366\n",
       "    3        0.0315789                   0.957501           2.48366    2.48366            1                1                           0.0261438       0.0784314                  148.366   148.366\n",
       "    4        0.0421053                   0.950394           2.48366    2.48366            1                1                           0.0261438       0.104575                   148.366   148.366\n",
       "    5        0.05                        0.944027           2.48366    2.48366            1                1                           0.0196078       0.124183                   148.366   148.366\n",
       "    6        0.1                         0.890444           2.48366    2.48366            1                1                           0.124183        0.248366                   148.366   148.366\n",
       "    7        0.15                        0.83218            2.48366    2.48366            1                1                           0.124183        0.372549                   148.366   148.366\n",
       "    8        0.2                         0.782252           2.48366    2.48366            1                1                           0.124183        0.496732                   148.366   148.366\n",
       "    9        0.3                         0.627534           2.28758    2.4183             0.921053         0.973684                    0.228758        0.72549                    128.758   141.83\n",
       "    10       0.4                         0.462653           1.76471    2.2549             0.710526         0.907895                    0.176471        0.901961                   76.4706   125.49\n",
       "    11       0.5                         0.322728           0.653595   1.93464            0.263158         0.778947                    0.0653595       0.96732                    -34.6405  93.4641\n",
       "    12       0.6                         0.197356           0.261438   1.65577            0.105263         0.666667                    0.0261438       0.993464                   -73.8562  65.5773\n",
       "    13       0.7                         0.121904           0.0653595  1.42857            0.0263158        0.575188                    0.00653595      1                          -93.4641  42.8571\n",
       "    14       0.8                         0.0781791          0          1.25               0                0.503289                    0               1                          -100      25\n",
       "    15       0.9                         0.0473162          0          1.11111            0                0.447368                    0               1                          -100      11.1111\n",
       "    16       1                           0.0142542          0          1                  0                0.402632                    0               1                          -100      0"
      ]
     },
     "metadata": {},
     "output_type": "display_data"
    },
    {
     "name": "stdout",
     "output_type": "stream",
     "text": [
      "\n"
     ]
    }
   ],
   "source": [
    "my_gbm_metrics = my_gbm.model_performance(train)\n",
    "my_gbm_metrics.show()"
   ]
  },
  {
   "cell_type": "code",
   "execution_count": 83,
   "metadata": {
    "collapsed": false
   },
   "outputs": [],
   "source": [
    "# # import h2o\n",
    "# # h2o.init()\n",
    "# # path = h2o.system_file(\"prostate.csv\")\n",
    "# h2o_df = train\n",
    "# h2o_df.describe()\n",
    "\n",
    "\n"
   ]
  },
  {
   "cell_type": "code",
   "execution_count": null,
   "metadata": {
    "collapsed": false
   },
   "outputs": [],
   "source": [
    "\n"
   ]
  },
  {
   "cell_type": "code",
   "execution_count": 84,
   "metadata": {
    "collapsed": false
   },
   "outputs": [],
   "source": [
    "# from h2o.estimators.glm import H2OGeneralizedLinearEstimator\n",
    "# help(H2OGeneralizedLinearEstimator)"
   ]
  },
  {
   "cell_type": "code",
   "execution_count": 85,
   "metadata": {
    "collapsed": true
   },
   "outputs": [],
   "source": [
    "# glm_multi_v1 = H2OGeneralizedLinearEstimator(\n",
    "#                     model_id='glm_v1',            #allows us to easily locate this model in Flow\n",
    "#                     family='multinomial',\n",
    "#                     solver='L_BFGS')"
   ]
  },
  {
   "cell_type": "code",
   "execution_count": 86,
   "metadata": {
    "collapsed": false
   },
   "outputs": [],
   "source": [
    "# train, valid, test = train.split_frame([0.7, 0.15], seed=1234)\n",
    "# print (train.describe())"
   ]
  },
  {
   "cell_type": "code",
   "execution_count": 87,
   "metadata": {
    "collapsed": false
   },
   "outputs": [],
   "source": [
    "# xvar = h2o_df[[\"AGE\", \"RACE\", \"PSA\", \"GLEASON\"]]    #last column is Cover_Type, our desired response variable \n",
    "# yvar = h2o_df[[\"CAPSULE\"]]    \n",
    "# # gaussian_fit = h2o.glm(y = \"VOL\", x = [\"AGE\", \"RACE\", \"PSA\", \"GLEASON\"],\n",
    "# # training_frame = h2o_df, family = \"gaussian\")\n"
   ]
  },
  {
   "cell_type": "code",
   "execution_count": 88,
   "metadata": {
    "collapsed": false
   },
   "outputs": [],
   "source": [
    "# glm_multi_v1.train(xvar, yvar, training_frame=train, validation_frame=valid)\n",
    "# glm_multi_v1_metrics = glm_multi_v1.model_performance(train)\n",
    "# glm_multi_v1_metrics.show()"
   ]
  },
  {
   "cell_type": "code",
   "execution_count": null,
   "metadata": {
    "collapsed": false
   },
   "outputs": [],
   "source": []
  },
  {
   "cell_type": "code",
   "execution_count": 89,
   "metadata": {
    "collapsed": true
   },
   "outputs": [],
   "source": [
    "# from h2o.estimators.random_forest import H2ORandomForestEstimator\n",
    "# from h2o.estimators.gbm import H2OGradientBoostingEstimator\n",
    "\n",
    "# from __future__ import print_function"
   ]
  },
  {
   "cell_type": "code",
   "execution_count": 90,
   "metadata": {
    "collapsed": false
   },
   "outputs": [],
   "source": [
    "# my_rf = H2ORandomForestEstimator(ntrees=50,\n",
    "#                                  nfolds=5,\n",
    "#                                  fold_assignment=\"Modulo\",\n",
    "#                                  keep_cross_validation_predictions=True,\n",
    "#                                  seed=1)\n",
    "# my_rf.train(x=xvar, y=yvar, training_frame=train)"
   ]
  },
  {
   "cell_type": "code",
   "execution_count": 91,
   "metadata": {
    "collapsed": false
   },
   "outputs": [],
   "source": [
    "# perf_rf_test = my_rf.model_performance(test)\n",
    "\n"
   ]
  },
  {
   "cell_type": "code",
   "execution_count": 92,
   "metadata": {
    "collapsed": false
   },
   "outputs": [],
   "source": [
    "# baselearner_best_auc_test = max(my_gbm_metrics.auc(), perf_rf_test.auc())\n",
    "\n",
    "# print(\"Best Base-learner Test AUC:  {0}\".format(baselearner_best_auc_test))"
   ]
  },
  {
   "cell_type": "code",
   "execution_count": null,
   "metadata": {
    "collapsed": true
   },
   "outputs": [],
   "source": []
  },
  {
   "cell_type": "code",
   "execution_count": null,
   "metadata": {
    "collapsed": true
   },
   "outputs": [],
   "source": []
  }
 ],
 "metadata": {
  "kernelspec": {
   "display_name": "Python 3",
   "language": "python",
   "name": "python3"
  },
  "language_info": {
   "codemirror_mode": {
    "name": "ipython",
    "version": 3
   },
   "file_extension": ".py",
   "mimetype": "text/x-python",
   "name": "python",
   "nbconvert_exporter": "python",
   "pygments_lexer": "ipython3",
   "version": "3.6.0"
  }
 },
 "nbformat": 4,
 "nbformat_minor": 2
}
